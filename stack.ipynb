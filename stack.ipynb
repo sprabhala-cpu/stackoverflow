{
  "nbformat": 4,
  "nbformat_minor": 0,
  "metadata": {
    "colab": {
      "name": "stack.ipynb",
      "provenance": []
    },
    "kernelspec": {
      "name": "python3",
      "display_name": "Python 3"
    },
    "language_info": {
      "name": "python"
    }
  },
  "cells": [
    {
      "cell_type": "code",
      "metadata": {
        "colab": {
          "base_uri": "https://localhost:8080/",
          "height": 35
        },
        "id": "6DW-DvK-P1g_",
        "outputId": "2ba70846-4e35-4811-943e-f6487a46e22d"
      },
      "source": [
        "'''\n",
        "Determine the stronghold party-seats. A stronghold seat is one that is won by the\n",
        "same party in all the elections.'''\n"
      ],
      "execution_count": 1,
      "outputs": [
        {
          "output_type": "execute_result",
          "data": {
            "application/vnd.google.colaboratory.intrinsic+json": {
              "type": "string"
            },
            "text/plain": [
              "'\\nDetermine the stronghold party-seats. A stronghold seat is one that is won by the\\nsame party in all the elections.'"
            ]
          },
          "metadata": {
            "tags": []
          },
          "execution_count": 1
        }
      ]
    },
    {
      "cell_type": "code",
      "metadata": {
        "id": "Z53N7dI2P6PB"
      },
      "source": [
        "import pandas as pd\n"
      ],
      "execution_count": 134,
      "outputs": []
    },
    {
      "cell_type": "code",
      "metadata": {
        "id": "L1-KYozFP9oV"
      },
      "source": [
        "data=pd.read_csv('/content/stack.csv')"
      ],
      "execution_count": 150,
      "outputs": []
    },
    {
      "cell_type": "code",
      "metadata": {
        "colab": {
          "base_uri": "https://localhost:8080/",
          "height": 110
        },
        "id": "qD4rTp56QGtN",
        "outputId": "ba9b587c-b4d6-4d1f-8f0f-945441b71014"
      },
      "source": [
        "data.head(2)"
      ],
      "execution_count": 154,
      "outputs": [
        {
          "output_type": "execute_result",
          "data": {
            "text/html": [
              "<div>\n",
              "<style scoped>\n",
              "    .dataframe tbody tr th:only-of-type {\n",
              "        vertical-align: middle;\n",
              "    }\n",
              "\n",
              "    .dataframe tbody tr th {\n",
              "        vertical-align: top;\n",
              "    }\n",
              "\n",
              "    .dataframe thead th {\n",
              "        text-align: right;\n",
              "    }\n",
              "</style>\n",
              "<table border=\"1\" class=\"dataframe\">\n",
              "  <thead>\n",
              "    <tr style=\"text-align: right;\">\n",
              "      <th></th>\n",
              "      <th>Unnamed: 0</th>\n",
              "      <th>Election Year</th>\n",
              "      <th>Position</th>\n",
              "      <th>Name</th>\n",
              "      <th>Votes</th>\n",
              "      <th>Votes %</th>\n",
              "      <th>Party</th>\n",
              "      <th>AC name</th>\n",
              "      <th>AC No</th>\n",
              "    </tr>\n",
              "  </thead>\n",
              "  <tbody>\n",
              "    <tr>\n",
              "      <th>0</th>\n",
              "      <td>2386</td>\n",
              "      <td>2010</td>\n",
              "      <td>1</td>\n",
              "      <td>Prem Ranjan Patel</td>\n",
              "      <td>49511</td>\n",
              "      <td>38.50%</td>\n",
              "      <td>Bharatiya Janta Party</td>\n",
              "      <td>Suryagarha</td>\n",
              "      <td>167</td>\n",
              "    </tr>\n",
              "    <tr>\n",
              "      <th>1</th>\n",
              "      <td>2387</td>\n",
              "      <td>2010</td>\n",
              "      <td>2</td>\n",
              "      <td>Prahlad Yadav</td>\n",
              "      <td>46583</td>\n",
              "      <td>36.30%</td>\n",
              "      <td>Rashtriya Janata Dal</td>\n",
              "      <td>Suryagarha</td>\n",
              "      <td>167</td>\n",
              "    </tr>\n",
              "  </tbody>\n",
              "</table>\n",
              "</div>"
            ],
            "text/plain": [
              "   Unnamed: 0 Election Year  Position  ...                  Party     AC name AC No\n",
              "0        2386          2010         1  ...  Bharatiya Janta Party  Suryagarha   167\n",
              "1        2387          2010         2  ...   Rashtriya Janata Dal  Suryagarha   167\n",
              "\n",
              "[2 rows x 9 columns]"
            ]
          },
          "metadata": {
            "tags": []
          },
          "execution_count": 154
        }
      ]
    },
    {
      "cell_type": "code",
      "metadata": {
        "id": "60NS_r9FhWeO"
      },
      "source": [
        "''' A stronghold seat is one that is won by the same party in all the elections'''\n",
        "''' so if we the party should win all elections from 2005 to 2015'''\n"
      ],
      "execution_count": null,
      "outputs": []
    },
    {
      "cell_type": "code",
      "metadata": {
        "colab": {
          "base_uri": "https://localhost:8080/",
          "height": 172
        },
        "id": "P_0bH8BdWhY7",
        "outputId": "08a41316-0e06-4758-8fd4-60bcaabc4e7f"
      },
      "source": [
        "data1[data1['Position']==1]"
      ],
      "execution_count": 152,
      "outputs": [
        {
          "output_type": "execute_result",
          "data": {
            "text/html": [
              "<div>\n",
              "<style scoped>\n",
              "    .dataframe tbody tr th:only-of-type {\n",
              "        vertical-align: middle;\n",
              "    }\n",
              "\n",
              "    .dataframe tbody tr th {\n",
              "        vertical-align: top;\n",
              "    }\n",
              "\n",
              "    .dataframe thead th {\n",
              "        text-align: right;\n",
              "    }\n",
              "</style>\n",
              "<table border=\"1\" class=\"dataframe\">\n",
              "  <thead>\n",
              "    <tr style=\"text-align: right;\">\n",
              "      <th></th>\n",
              "      <th>Election Year</th>\n",
              "      <th>Position</th>\n",
              "      <th>Name</th>\n",
              "      <th>Votes</th>\n",
              "      <th>Votes %</th>\n",
              "      <th>Party</th>\n",
              "      <th>AC name</th>\n",
              "      <th>AC No</th>\n",
              "    </tr>\n",
              "  </thead>\n",
              "  <tbody>\n",
              "    <tr>\n",
              "      <th>2386</th>\n",
              "      <td>2010</td>\n",
              "      <td>1</td>\n",
              "      <td>Prem Ranjan Patel</td>\n",
              "      <td>49511</td>\n",
              "      <td>38.50%</td>\n",
              "      <td>Bharatiya Janta Party</td>\n",
              "      <td>Suryagarha</td>\n",
              "      <td>167</td>\n",
              "    </tr>\n",
              "    <tr>\n",
              "      <th>5841</th>\n",
              "      <td>2015</td>\n",
              "      <td>1</td>\n",
              "      <td>Prahlad Yadav</td>\n",
              "      <td>82490</td>\n",
              "      <td>50.20%</td>\n",
              "      <td>Rashtriya Janata Dal</td>\n",
              "      <td>Suryagarha</td>\n",
              "      <td>167</td>\n",
              "    </tr>\n",
              "    <tr>\n",
              "      <th>8372</th>\n",
              "      <td>2005-Oct</td>\n",
              "      <td>1</td>\n",
              "      <td>Monazir Hassan</td>\n",
              "      <td>59381</td>\n",
              "      <td>64.20%</td>\n",
              "      <td>Janata Dal (United)</td>\n",
              "      <td>Suryagarha</td>\n",
              "      <td>167</td>\n",
              "    </tr>\n",
              "    <tr>\n",
              "      <th>11229</th>\n",
              "      <td>2005-Feb</td>\n",
              "      <td>1</td>\n",
              "      <td>Dr. Monazir Hassan</td>\n",
              "      <td>63222</td>\n",
              "      <td>57.70%</td>\n",
              "      <td>Janata Dal (United)</td>\n",
              "      <td>Suryagarha</td>\n",
              "      <td>167</td>\n",
              "    </tr>\n",
              "  </tbody>\n",
              "</table>\n",
              "</div>"
            ],
            "text/plain": [
              "      Election Year  Position  ...     AC name  AC No\n",
              "2386           2010         1  ...  Suryagarha    167\n",
              "5841           2015         1  ...  Suryagarha    167\n",
              "8372       2005-Oct         1  ...  Suryagarha    167\n",
              "11229      2005-Feb         1  ...  Suryagarha    167\n",
              "\n",
              "[4 rows x 8 columns]"
            ]
          },
          "metadata": {
            "tags": []
          },
          "execution_count": 152
        }
      ]
    },
    {
      "cell_type": "code",
      "metadata": {
        "id": "OG76Ny71Tn_2"
      },
      "source": [
        "res = data1.groupby([\"Party\"])[\"Position\"].agg(lambda s: s.eq(1).all())#code"
      ],
      "execution_count": 153,
      "outputs": []
    },
    {
      "cell_type": "code",
      "metadata": {
        "colab": {
          "base_uri": "https://localhost:8080/"
        },
        "id": "wVLJmKy1T7fY",
        "outputId": "f84d3534-a980-42df-d570-9fd356ae28dc"
      },
      "source": [
        "res[res]#output it shows result as janatadal "
      ],
      "execution_count": 155,
      "outputs": [
        {
          "output_type": "execute_result",
          "data": {
            "text/plain": [
              "Party\n",
              "Janata Dal (United)    True\n",
              "Name: Position, dtype: bool"
            ]
          },
          "metadata": {
            "tags": []
          },
          "execution_count": 155
        }
      ]
    },
    {
      "cell_type": "code",
      "metadata": {
        "id": "FsAfH09mT7-V"
      },
      "source": [
        ""
      ],
      "execution_count": null,
      "outputs": []
    },
    {
      "cell_type": "code",
      "metadata": {
        "id": "ZKKR58-VUI3g"
      },
      "source": [
        ""
      ],
      "execution_count": null,
      "outputs": []
    },
    {
      "cell_type": "code",
      "metadata": {
        "id": "Jjjb1ZQ0d2NO"
      },
      "source": [
        ""
      ],
      "execution_count": null,
      "outputs": []
    }
  ]
}